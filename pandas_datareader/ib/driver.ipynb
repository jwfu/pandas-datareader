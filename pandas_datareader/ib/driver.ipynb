{
 "metadata": {
  "language_info": {
   "codemirror_mode": {
    "name": "ipython",
    "version": 3
   },
   "file_extension": ".py",
   "mimetype": "text/x-python",
   "name": "python",
   "nbconvert_exporter": "python",
   "pygments_lexer": "ipython3",
   "version": "3.8.3"
  },
  "orig_nbformat": 2,
  "kernelspec": {
   "name": "python3",
   "display_name": "Python 3",
   "language": "python"
  }
 },
 "nbformat": 4,
 "nbformat_minor": 2,
 "cells": [
  {
   "cell_type": "code",
   "execution_count": 7,
   "metadata": {},
   "outputs": [
    {
     "output_type": "execute_result",
     "data": {
      "text/plain": [
       "                        open    close     high      low  volume\n",
       "time                                                           \n",
       "2020-12-21 13:00:00  3644.00  3648.50  3651.00  3630.00   55510\n",
       "2020-12-21 14:00:00  3648.75  3654.25  3670.75  3645.25  230182\n",
       "2020-12-21 15:00:00  3654.25  3638.75  3655.75  3625.00  322105\n",
       "2020-12-21 16:00:00  3638.75  3658.75  3662.25  3637.50  150240\n",
       "2020-12-21 17:00:00  3658.75  3678.50  3680.75  3658.50  112417\n",
       "...                      ...      ...      ...      ...     ...\n",
       "2021-02-19 14:00:00  3929.00  3923.50  3929.25  3913.75  191458\n",
       "2021-02-19 15:00:00  3923.25  3923.25  3925.00  3916.00  158410\n",
       "2021-02-19 16:00:00  3923.25  3921.00  3927.25  3920.25   93641\n",
       "2021-02-19 17:00:00  3921.00  3909.00  3921.50  3904.00  170434\n",
       "2021-02-19 18:00:00  3909.25  3904.75  3910.50  3901.75   49366\n",
       "\n",
       "[1000 rows x 5 columns]"
      ],
      "text/html": "<div>\n<style scoped>\n    .dataframe tbody tr th:only-of-type {\n        vertical-align: middle;\n    }\n\n    .dataframe tbody tr th {\n        vertical-align: top;\n    }\n\n    .dataframe thead th {\n        text-align: right;\n    }\n</style>\n<table border=\"1\" class=\"dataframe\">\n  <thead>\n    <tr style=\"text-align: right;\">\n      <th></th>\n      <th>open</th>\n      <th>close</th>\n      <th>high</th>\n      <th>low</th>\n      <th>volume</th>\n    </tr>\n    <tr>\n      <th>time</th>\n      <th></th>\n      <th></th>\n      <th></th>\n      <th></th>\n      <th></th>\n    </tr>\n  </thead>\n  <tbody>\n    <tr>\n      <th>2020-12-21 13:00:00</th>\n      <td>3644.00</td>\n      <td>3648.50</td>\n      <td>3651.00</td>\n      <td>3630.00</td>\n      <td>55510</td>\n    </tr>\n    <tr>\n      <th>2020-12-21 14:00:00</th>\n      <td>3648.75</td>\n      <td>3654.25</td>\n      <td>3670.75</td>\n      <td>3645.25</td>\n      <td>230182</td>\n    </tr>\n    <tr>\n      <th>2020-12-21 15:00:00</th>\n      <td>3654.25</td>\n      <td>3638.75</td>\n      <td>3655.75</td>\n      <td>3625.00</td>\n      <td>322105</td>\n    </tr>\n    <tr>\n      <th>2020-12-21 16:00:00</th>\n      <td>3638.75</td>\n      <td>3658.75</td>\n      <td>3662.25</td>\n      <td>3637.50</td>\n      <td>150240</td>\n    </tr>\n    <tr>\n      <th>2020-12-21 17:00:00</th>\n      <td>3658.75</td>\n      <td>3678.50</td>\n      <td>3680.75</td>\n      <td>3658.50</td>\n      <td>112417</td>\n    </tr>\n    <tr>\n      <th>...</th>\n      <td>...</td>\n      <td>...</td>\n      <td>...</td>\n      <td>...</td>\n      <td>...</td>\n    </tr>\n    <tr>\n      <th>2021-02-19 14:00:00</th>\n      <td>3929.00</td>\n      <td>3923.50</td>\n      <td>3929.25</td>\n      <td>3913.75</td>\n      <td>191458</td>\n    </tr>\n    <tr>\n      <th>2021-02-19 15:00:00</th>\n      <td>3923.25</td>\n      <td>3923.25</td>\n      <td>3925.00</td>\n      <td>3916.00</td>\n      <td>158410</td>\n    </tr>\n    <tr>\n      <th>2021-02-19 16:00:00</th>\n      <td>3923.25</td>\n      <td>3921.00</td>\n      <td>3927.25</td>\n      <td>3920.25</td>\n      <td>93641</td>\n    </tr>\n    <tr>\n      <th>2021-02-19 17:00:00</th>\n      <td>3921.00</td>\n      <td>3909.00</td>\n      <td>3921.50</td>\n      <td>3904.00</td>\n      <td>170434</td>\n    </tr>\n    <tr>\n      <th>2021-02-19 18:00:00</th>\n      <td>3909.25</td>\n      <td>3904.75</td>\n      <td>3910.50</td>\n      <td>3901.75</td>\n      <td>49366</td>\n    </tr>\n  </tbody>\n</table>\n<p>1000 rows × 5 columns</p>\n</div>"
     },
     "metadata": {},
     "execution_count": 7
    }
   ],
   "source": [
    "import datetime as dt\n",
    "import pandas as pd\n",
    "import warnings\n",
    "\n",
    "from pandas_datareader.base import _BaseReader\n",
    "\n",
    "IB_BASE_URL = \"https://localhost:5000/v1/api/iserver/marketdata/history\"\n",
    "\n",
    "class IBTimeSeriesReader(_BaseReader):\n",
    "    \"\"\"\n",
    "    Returns DataFrame of the Alpha Vantage Stock Time Series endpoints\n",
    "\n",
    "    .. versionadded:: 0.7.0\n",
    "\n",
    "    Parameters\n",
    "    ----------\n",
    "    symbols : string\n",
    "        Single stock symbol (ticker)\n",
    "    start : string, int, date, datetime, Timestamp\n",
    "        Starting date. Parses many different kind of date\n",
    "        representations (e.g., 'JAN-01-2010', '1/1/10', 'Jan, 1, 1980'). Defaults to\n",
    "        20 years before current date.\n",
    "    end : string, int, date, datetime, Timestamp\n",
    "        Ending date\n",
    "    retry_count : int, default 3\n",
    "        Number of times to retry query request.\n",
    "    pause : int, default 0.1\n",
    "        Time, in seconds, to pause between consecutive queries of chunks. If\n",
    "        single value given for symbol, represents the pause between retries.\n",
    "    session : Session, default None\n",
    "        requests.sessions.Session instance to be used\n",
    "    api_key : str, optional\n",
    "        AlphaVantage API key . If not provided the environmental variable\n",
    "        ALPHAVANTAGE_API_KEY is read. The API key is *required*.\n",
    "    \"\"\"\n",
    "    _format = 'json'\n",
    "\n",
    "    def __init__(\n",
    "        self,\n",
    "        symbols, #inherit base\n",
    "        exchange = None,\n",
    "        period = '1y',\n",
    "        bar = None,\n",
    "        outsideRth = True,\n",
    "        retry_count=3,  #inherit base\n",
    "        pause=0.1,  #inherit base\n",
    "        session=None,  #inherit base\n",
    "    ):\n",
    "        \n",
    "        super(IBTimeSeriesReader, self).__init__(\n",
    "            symbols=symbols,\n",
    "            retry_count=retry_count,\n",
    "            pause=pause,\n",
    "            session=session,\n",
    "        )\n",
    "\n",
    "        self._exchange = exchange\n",
    "        self._period = period\n",
    "        self._bar = bar\n",
    "        self._outsideRth = outsideRth\n",
    "\n",
    "    @property\n",
    "    def url(self):\n",
    "        \"\"\" API URL \"\"\"\n",
    "        return IB_BASE_URL\n",
    "\n",
    "    @property\n",
    "    def params(self):\n",
    "        return {\n",
    "            \"conid\": self.symbols,\n",
    "            \"exchange\": self.exchange,\n",
    "            \"period\": self.period,\n",
    "            \"bar\": self.bar,\n",
    "            \"outsideRth\": self.outsideRth\n",
    "            }\n",
    "\n",
    "    @property\n",
    "    def exchange(self):\n",
    "        return self._exchange\n",
    "\n",
    "    @property\n",
    "    def period(self):\n",
    "        return self._period\n",
    "\n",
    "    @property\n",
    "    def bar(self):\n",
    "        return self._bar\n",
    "\n",
    "    @property\n",
    "    def outsideRth(self):\n",
    "        # if self._outsideRth = \n",
    "        return self._outsideRth\n",
    "\n",
    "    def _read_lines(self, out):\n",
    "        df = pd.DataFrame.from_dict(out['data'])\n",
    "        df.columns = ['open', 'close', 'high', 'low', 'volume', 'time']\n",
    "        df['time'] = pd.to_datetime(df['time'], unit = 'ms')\n",
    "        df.set_index('time', inplace = True)\n",
    "        if len(df) == 1000:\n",
    "            warnings.warn(\n",
    "                \"DataFrame returned is exactly 1000 lines long,\"\n",
    "                \" the data returned is probably truncated.\"\n",
    "            )\n",
    "\n",
    "        return df\n",
    "\n",
    "session.verify = False #SSL verification will be turned OFF, requests will give you an InsecureRequestWarning\n",
    "a =IBTimeSeriesReader(symbols='396336017', period = '15y', bar = '1h', session = session)\n",
    "a.read()\n",
    "# a.read()['close'].plot()"
   ]
  },
  {
   "cell_type": "code",
   "execution_count": 1,
   "metadata": {},
   "outputs": [
    {
     "output_type": "error",
     "ename": "NameError",
     "evalue": "name 'IBTimeSeriesReader' is not defined",
     "traceback": [
      "\u001b[0;31m---------------------------------------------------------------------------\u001b[0m",
      "\u001b[0;31mNameError\u001b[0m                                 Traceback (most recent call last)",
      "\u001b[0;32m<ipython-input-1-f1dcd13bfeac>\u001b[0m in \u001b[0;36m<module>\u001b[0;34m\u001b[0m\n\u001b[1;32m      3\u001b[0m \u001b[0msession\u001b[0m \u001b[0;34m=\u001b[0m \u001b[0mrequests\u001b[0m\u001b[0;34m.\u001b[0m\u001b[0mSession\u001b[0m\u001b[0;34m(\u001b[0m\u001b[0;34m)\u001b[0m\u001b[0;34m\u001b[0m\u001b[0;34m\u001b[0m\u001b[0m\n\u001b[1;32m      4\u001b[0m \u001b[0msession\u001b[0m\u001b[0;34m.\u001b[0m\u001b[0mverify\u001b[0m \u001b[0;34m=\u001b[0m \u001b[0;32mFalse\u001b[0m \u001b[0;31m#SSL verification will be turned OFF, requests will give you an InsecureRequestWarning\u001b[0m\u001b[0;34m\u001b[0m\u001b[0;34m\u001b[0m\u001b[0m\n\u001b[0;32m----> 5\u001b[0;31m \u001b[0ma\u001b[0m \u001b[0;34m=\u001b[0m\u001b[0mIBTimeSeriesReader\u001b[0m\u001b[0;34m(\u001b[0m\u001b[0msymbols\u001b[0m\u001b[0;34m=\u001b[0m\u001b[0;34m'78999225'\u001b[0m\u001b[0;34m,\u001b[0m \u001b[0msession\u001b[0m \u001b[0;34m=\u001b[0m \u001b[0msession\u001b[0m\u001b[0;34m,\u001b[0m \u001b[0moutsideRth\u001b[0m\u001b[0;34m=\u001b[0m\u001b[0;32mFalse\u001b[0m\u001b[0;34m)\u001b[0m\u001b[0;34m.\u001b[0m\u001b[0mread\u001b[0m\u001b[0;34m(\u001b[0m\u001b[0;34m)\u001b[0m\u001b[0;34m\u001b[0m\u001b[0;34m\u001b[0m\u001b[0m\n\u001b[0m\u001b[1;32m      6\u001b[0m \u001b[0ma\u001b[0m\u001b[0;34m\u001b[0m\u001b[0;34m\u001b[0m\u001b[0m\n",
      "\u001b[0;31mNameError\u001b[0m: name 'IBTimeSeriesReader' is not defined"
     ]
    }
   ],
   "source": [
    "import requests\n",
    "\n",
    "session = requests.Session()\n",
    "session.verify = False #SSL verification will be turned OFF, requests will give you an InsecureRequestWarning\n",
    "a =IBTimeSeriesReader(symbols='78999225', session = session, outsideRth=False).read()\n",
    "a"
   ]
  },
  {
   "cell_type": "code",
   "execution_count": 2,
   "metadata": {},
   "outputs": [
    {
     "output_type": "execute_result",
     "data": {
      "text/plain": [
       "1000"
      ]
     },
     "metadata": {},
     "execution_count": 2
    }
   ],
   "source": [
    "   import requests\n",
    "   import pandas_datareader as pdr\n",
    "\n",
    "   session = requests.Session()\n",
    "   session.verify = False #required due to self-signed SSL cert\n",
    "   \n",
    "   df = pdr.ib.time_series.IBTimeSeriesReader(symbols='396336017', period = '15y', bar = '1h', session = session).read()\n",
    "   len(df)"
   ]
  },
  {
   "cell_type": "code",
   "execution_count": 5,
   "metadata": {},
   "outputs": [
    {
     "output_type": "execute_result",
     "data": {
      "text/plain": [
       "                        open    close     high      low  volume\n",
       "time                                                           \n",
       "2021-02-14 23:00:00  3936.50  3936.50  3940.00  3934.75    9698\n",
       "2021-02-15 00:00:00  3936.50  3943.75  3946.50  3935.75   11645\n",
       "2021-02-15 01:00:00  3943.50  3944.00  3945.75  3941.75    4709\n",
       "2021-02-15 02:00:00  3944.00  3944.75  3947.00  3944.00    3789\n",
       "2021-02-15 03:00:00  3944.75  3947.00  3948.00  3943.75    3525\n",
       "...                      ...      ...      ...      ...     ...\n",
       "2021-02-19 13:00:00  3925.25  3929.00  3931.00  3924.75   30556\n",
       "2021-02-19 14:00:00  3929.00  3923.50  3929.25  3913.75  191458\n",
       "2021-02-19 15:00:00  3923.25  3923.25  3925.00  3916.00  158410\n",
       "2021-02-19 16:00:00  3923.25  3921.00  3927.25  3920.25   93641\n",
       "2021-02-19 17:00:00  3921.00  3913.25  3921.50  3911.00   76771\n",
       "\n",
       "[110 rows x 5 columns]"
      ],
      "text/html": "<div>\n<style scoped>\n    .dataframe tbody tr th:only-of-type {\n        vertical-align: middle;\n    }\n\n    .dataframe tbody tr th {\n        vertical-align: top;\n    }\n\n    .dataframe thead th {\n        text-align: right;\n    }\n</style>\n<table border=\"1\" class=\"dataframe\">\n  <thead>\n    <tr style=\"text-align: right;\">\n      <th></th>\n      <th>open</th>\n      <th>close</th>\n      <th>high</th>\n      <th>low</th>\n      <th>volume</th>\n    </tr>\n    <tr>\n      <th>time</th>\n      <th></th>\n      <th></th>\n      <th></th>\n      <th></th>\n      <th></th>\n    </tr>\n  </thead>\n  <tbody>\n    <tr>\n      <th>2021-02-14 23:00:00</th>\n      <td>3936.50</td>\n      <td>3936.50</td>\n      <td>3940.00</td>\n      <td>3934.75</td>\n      <td>9698</td>\n    </tr>\n    <tr>\n      <th>2021-02-15 00:00:00</th>\n      <td>3936.50</td>\n      <td>3943.75</td>\n      <td>3946.50</td>\n      <td>3935.75</td>\n      <td>11645</td>\n    </tr>\n    <tr>\n      <th>2021-02-15 01:00:00</th>\n      <td>3943.50</td>\n      <td>3944.00</td>\n      <td>3945.75</td>\n      <td>3941.75</td>\n      <td>4709</td>\n    </tr>\n    <tr>\n      <th>2021-02-15 02:00:00</th>\n      <td>3944.00</td>\n      <td>3944.75</td>\n      <td>3947.00</td>\n      <td>3944.00</td>\n      <td>3789</td>\n    </tr>\n    <tr>\n      <th>2021-02-15 03:00:00</th>\n      <td>3944.75</td>\n      <td>3947.00</td>\n      <td>3948.00</td>\n      <td>3943.75</td>\n      <td>3525</td>\n    </tr>\n    <tr>\n      <th>...</th>\n      <td>...</td>\n      <td>...</td>\n      <td>...</td>\n      <td>...</td>\n      <td>...</td>\n    </tr>\n    <tr>\n      <th>2021-02-19 13:00:00</th>\n      <td>3925.25</td>\n      <td>3929.00</td>\n      <td>3931.00</td>\n      <td>3924.75</td>\n      <td>30556</td>\n    </tr>\n    <tr>\n      <th>2021-02-19 14:00:00</th>\n      <td>3929.00</td>\n      <td>3923.50</td>\n      <td>3929.25</td>\n      <td>3913.75</td>\n      <td>191458</td>\n    </tr>\n    <tr>\n      <th>2021-02-19 15:00:00</th>\n      <td>3923.25</td>\n      <td>3923.25</td>\n      <td>3925.00</td>\n      <td>3916.00</td>\n      <td>158410</td>\n    </tr>\n    <tr>\n      <th>2021-02-19 16:00:00</th>\n      <td>3923.25</td>\n      <td>3921.00</td>\n      <td>3927.25</td>\n      <td>3920.25</td>\n      <td>93641</td>\n    </tr>\n    <tr>\n      <th>2021-02-19 17:00:00</th>\n      <td>3921.00</td>\n      <td>3913.25</td>\n      <td>3921.50</td>\n      <td>3911.00</td>\n      <td>76771</td>\n    </tr>\n  </tbody>\n</table>\n<p>110 rows × 5 columns</p>\n</div>"
     },
     "metadata": {},
     "execution_count": 5
    }
   ],
   "source": [
    "import pandas_datareader as pdr\n",
    "\n",
    "session = requests.Session()\n",
    "session.verify = False #required due to self-signed SSL cert\n",
    "\n",
    "pdr.get_data_ib(symbols='396336017', period = '1w', bar = '1h', session = session)\n"
   ]
  },
  {
   "cell_type": "code",
   "execution_count": 3,
   "metadata": {},
   "outputs": [
    {
     "output_type": "execute_result",
     "data": {
      "text/plain": [
       "'/home/jwfu/anaconda3/lib/python3.8/site-packages/pandas_datareader/__init__.py'"
      ]
     },
     "metadata": {},
     "execution_count": 3
    }
   ],
   "source": [
    "pdr.__file__"
   ]
  }
 ]
}